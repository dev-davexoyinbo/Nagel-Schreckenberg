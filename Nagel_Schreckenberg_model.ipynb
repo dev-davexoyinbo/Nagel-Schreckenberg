{
 "cells": [
  {
   "cell_type": "code",
   "execution_count": 107,
   "metadata": {},
   "outputs": [],
   "source": [
    "import random\n",
    "import math\n",
    "from matplotlib import pyplot as plt\n",
    "import numpy as np\n",
    "from scipy import interpolate"
   ]
  },
  {
   "cell_type": "code",
   "execution_count": 108,
   "metadata": {},
   "outputs": [],
   "source": [
    "class Car:\n",
    "    def __init__(self, velocity, position):\n",
    "        self.__velocity = velocity\n",
    "        self.__position = position\n",
    "    \n",
    "    def setVelocity(self, velocity):\n",
    "        self.__velocity = velocity\n",
    "    \n",
    "    def getVelocity(self):\n",
    "        return self.__velocity\n",
    "    \n",
    "    def setPosition(self, position):\n",
    "        self.__position = position\n",
    "        \n",
    "    def getPosition(self):\n",
    "        return self.__position\n",
    "    \n",
    "    def __str__(self):\n",
    "        return \"Car(velocity=\" + str(self.getVelocity()) +\", position=\" + str(self.getPosition()) + \")\""
   ]
  },
  {
   "cell_type": "code",
   "execution_count": 109,
   "metadata": {},
   "outputs": [],
   "source": [
    "class Track:\n",
    "    maximumVelocity = 5;\n",
    "    def __init__(self, density = 0.5, probability = 0.3):\n",
    "        self.__density = density\n",
    "        self.__probability = probability\n",
    "        self.__cars = self.initializeCars()\n",
    "        \n",
    "    def getCars(self):\n",
    "        return self.__cars\n",
    "    \n",
    "    def getProbability(self):\n",
    "        return self.__probability\n",
    "    \n",
    "        \n",
    "    def initializeCars(self):\n",
    "        numberOfCars = math.floor(self.__density * 100)\n",
    "        cars = []\n",
    "        for i in range(numberOfCars):\n",
    "            # Set the position to a random int first\n",
    "            # There are 100 cells from 0 to 99\n",
    "            car = Car(random.randint(0,5), random.randint(1, 100))\n",
    "            \n",
    "            # Check if the car's position is not already occupied\n",
    "            # Else change it to a random value\n",
    "            while True:\n",
    "                exists = False\n",
    "                for j in range(len(cars)):\n",
    "                    if(cars[j].getPosition() == car.getPosition()):\n",
    "                        exists = True\n",
    "                        \n",
    "                if exists:\n",
    "                    car.setPosition(random.randint(0, 99))\n",
    "                else: break\n",
    "                    \n",
    "            cars.append(car)\n",
    "            \n",
    "        cars.sort(key = lambda car: car.getPosition())\n",
    "        return cars\n",
    "    \n",
    "    def performModelActions(self):\n",
    "        self.accelerateCars()\n",
    "        self.slowDownCars()\n",
    "        self.randomizeVelocity()\n",
    "        self.moveCars()\n",
    "    \n",
    "    def accelerateCars(self):\n",
    "        cars = self.getCars()\n",
    "        for car in cars:\n",
    "            if car.getVelocity() < self.maximumVelocity:\n",
    "                car.setVelocity(car.getVelocity() + 1)\n",
    "                \n",
    "    def slowDownCars(self):\n",
    "        cars = self.getCars()\n",
    "        numberOfCars = len(cars)\n",
    "        \n",
    "        \n",
    "        for index, car in enumerate(cars):\n",
    "            nextCar = cars[(index + 1) % numberOfCars]\n",
    "            \n",
    "            distanceToNextCar = abs(car.getPosition() - (nextCar.getPosition() + 100)) % 100\n",
    "            \n",
    "#             distanceToNextCar = nextCar.getPosition() - car.getPosition()\n",
    "#             if(distanceToNextCar < 0): distanceToNextCar += 100\n",
    "#             print(str(car), str(nextCar),  distanceToNextCar, car.getVelocity())\n",
    "            if distanceToNextCar <= car.getVelocity():\n",
    "                car.setVelocity(distanceToNextCar - 1)\n",
    "                \n",
    "    def randomizeVelocity(self):\n",
    "        cars = self.getCars()\n",
    "        probabilityInPercentage = self.getProbability() * 100\n",
    "        for car in cars:\n",
    "            if car.getVelocity() >= 1:\n",
    "                if random.randint(1, 100) <= probabilityInPercentage:\n",
    "                    car.setVelocity(car.getVelocity() - 1)\n",
    "                \n",
    "    def moveCars(self):\n",
    "        cars = self.getCars()\n",
    "        \n",
    "        for car in cars:\n",
    "            \n",
    "            car.setPosition(car.getPosition() + car.getVelocity())\n",
    "            # Reset car into circle\n",
    "            car.setPosition(car.getPosition() % 101)\n",
    "#             print(str(car))\n",
    "            \n",
    "            \n",
    "            \n",
    "    def getAverageCarVelocity(self):\n",
    "        cars = self.getCars()\n",
    "        totalVelocity = 0\n",
    "        for car in cars:\n",
    "            totalVelocity += car.getVelocity()\n",
    "            \n",
    "        return totalVelocity / len(cars)"
   ]
  },
  {
   "cell_type": "code",
   "execution_count": 110,
   "metadata": {},
   "outputs": [],
   "source": [
    "def runModelAndGetAverageVelocity(track):\n",
    "    for i in range(100):\n",
    "        track.performModelActions()\n",
    "    return track.getAverageCarVelocity()"
   ]
  },
  {
   "cell_type": "code",
   "execution_count": 111,
   "metadata": {},
   "outputs": [
    {
     "data": {
      "text/plain": [
       "[0.1, 0.2, 0.3, 0.4, 0.5, 0.6, 0.7, 0.8, 0.9, 1.0]"
      ]
     },
     "execution_count": 111,
     "metadata": {},
     "output_type": "execute_result"
    }
   ],
   "source": [
    "densities = [i / 10 for i in range(1,11)]\n",
    "probabilities = [0.1, 0.2, 0.3, 0.6]\n",
    "densities"
   ]
  },
  {
   "cell_type": "code",
   "execution_count": 122,
   "metadata": {},
   "outputs": [
    {
     "data": {
      "image/png": "[encoded data removed]",
      "text/plain": [
       "<Figure size 432x288 with 1 Axes>"
      ]
     },
     "metadata": {
      "needs_background": "light"
     },
     "output_type": "display_data"
    }
   ],
   "source": [
    "for p in probabilities:\n",
    "    averageVelocities = []\n",
    "    for d in densities:\n",
    "        track = Track(d, p)\n",
    "        averageVelocities.append(runModelAndGetAverageVelocity(track))\n",
    "        \n",
    "#     x_new = np.linspace(0, 1, 300)\n",
    "#     a_BSpline = interpolate.make_interp_spline(densities, averageVelocities)\n",
    "#     y_new = a_BSpline(x_new)\n",
    "\n",
    "#     plt.plot(x_new, y_new)\n",
    "        \n",
    "    plt.plot(densities, averageVelocities, label=\"p=\" + str(p))\n",
    "    \n",
    "plt.xlabel(\"rho, density\")\n",
    "plt.ylabel(\"<V> average velocity\")\n",
    "plt.legend()\n",
    "plt.grid(True)\n",
    "plt.show()"
   ]
  },
  {
   "cell_type": "code",
   "execution_count": 121,
   "metadata": {},
   "outputs": [
    {
     "data": {
      "text/plain": [
       "['Car(velocity=2, position=2)',\n",
       " 'Car(velocity=2, position=4)',\n",
       " 'Car(velocity=5, position=5)',\n",
       " 'Car(velocity=2, position=6)',\n",
       " 'Car(velocity=4, position=7)',\n",
       " 'Car(velocity=0, position=8)',\n",
       " 'Car(velocity=2, position=9)',\n",
       " 'Car(velocity=5, position=10)',\n",
       " 'Car(velocity=1, position=12)',\n",
       " 'Car(velocity=2, position=13)',\n",
       " 'Car(velocity=0, position=14)',\n",
       " 'Car(velocity=4, position=15)',\n",
       " 'Car(velocity=4, position=16)',\n",
       " 'Car(velocity=2, position=17)',\n",
       " 'Car(velocity=3, position=19)',\n",
       " 'Car(velocity=4, position=20)',\n",
       " 'Car(velocity=1, position=21)',\n",
       " 'Car(velocity=1, position=23)',\n",
       " 'Car(velocity=4, position=25)',\n",
       " 'Car(velocity=5, position=26)',\n",
       " 'Car(velocity=4, position=28)',\n",
       " 'Car(velocity=5, position=30)',\n",
       " 'Car(velocity=2, position=33)',\n",
       " 'Car(velocity=5, position=34)',\n",
       " 'Car(velocity=0, position=35)',\n",
       " 'Car(velocity=5, position=36)',\n",
       " 'Car(velocity=3, position=40)',\n",
       " 'Car(velocity=4, position=47)',\n",
       " 'Car(velocity=4, position=52)',\n",
       " 'Car(velocity=1, position=57)',\n",
       " 'Car(velocity=5, position=58)',\n",
       " 'Car(velocity=4, position=59)',\n",
       " 'Car(velocity=2, position=60)',\n",
       " 'Car(velocity=0, position=62)',\n",
       " 'Car(velocity=0, position=65)',\n",
       " 'Car(velocity=5, position=66)',\n",
       " 'Car(velocity=4, position=67)',\n",
       " 'Car(velocity=4, position=68)',\n",
       " 'Car(velocity=3, position=69)',\n",
       " 'Car(velocity=5, position=71)',\n",
       " 'Car(velocity=3, position=72)',\n",
       " 'Car(velocity=5, position=73)',\n",
       " 'Car(velocity=5, position=75)',\n",
       " 'Car(velocity=4, position=79)',\n",
       " 'Car(velocity=5, position=90)',\n",
       " 'Car(velocity=4, position=92)',\n",
       " 'Car(velocity=0, position=93)',\n",
       " 'Car(velocity=3, position=94)',\n",
       " 'Car(velocity=0, position=96)',\n",
       " 'Car(velocity=1, position=99)']"
      ]
     },
     "execution_count": 121,
     "metadata": {},
     "output_type": "execute_result"
    }
   ],
   "source": [
    "track = Track(0.5)\n",
    "[str(car) for car in track.getCars()]"
   ]
  },
  {
   "cell_type": "code",
   "execution_count": 119,
   "metadata": {},
   "outputs": [
    {
     "data": {
      "text/plain": [
       "['Car(velocity=1, position=1)',\n",
       " 'Car(velocity=2, position=4)',\n",
       " 'Car(velocity=3, position=8)',\n",
       " 'Car(velocity=1, position=13)',\n",
       " 'Car(velocity=0, position=14)',\n",
       " 'Car(velocity=0, position=15)',\n",
       " 'Car(velocity=1, position=17)',\n",
       " 'Car(velocity=0, position=18)',\n",
       " 'Car(velocity=1, position=20)',\n",
       " 'Car(velocity=1, position=24)',\n",
       " 'Car(velocity=0, position=25)',\n",
       " 'Car(velocity=0, position=26)',\n",
       " 'Car(velocity=1, position=28)',\n",
       " 'Car(velocity=0, position=31)',\n",
       " 'Car(velocity=1, position=34)',\n",
       " 'Car(velocity=0, position=36)',\n",
       " 'Car(velocity=0, position=37)',\n",
       " 'Car(velocity=0, position=38)',\n",
       " 'Car(velocity=1, position=41)',\n",
       " 'Car(velocity=1, position=43)',\n",
       " 'Car(velocity=1, position=47)',\n",
       " 'Car(velocity=0, position=49)',\n",
       " 'Car(velocity=1, position=51)',\n",
       " 'Car(velocity=1, position=53)',\n",
       " 'Car(velocity=1, position=55)',\n",
       " 'Car(velocity=0, position=59)',\n",
       " 'Car(velocity=1, position=61)',\n",
       " 'Car(velocity=0, position=62)',\n",
       " 'Car(velocity=0, position=63)',\n",
       " 'Car(velocity=0, position=64)',\n",
       " 'Car(velocity=0, position=65)',\n",
       " 'Car(velocity=1, position=67)',\n",
       " 'Car(velocity=0, position=68)',\n",
       " 'Car(velocity=0, position=69)',\n",
       " 'Car(velocity=0, position=70)',\n",
       " 'Car(velocity=0, position=75)',\n",
       " 'Car(velocity=0, position=76)',\n",
       " 'Car(velocity=0, position=77)',\n",
       " 'Car(velocity=0, position=78)',\n",
       " 'Car(velocity=1, position=82)',\n",
       " 'Car(velocity=2, position=85)',\n",
       " 'Car(velocity=1, position=88)',\n",
       " 'Car(velocity=0, position=89)',\n",
       " 'Car(velocity=1, position=91)',\n",
       " 'Car(velocity=1, position=93)',\n",
       " 'Car(velocity=0, position=94)',\n",
       " 'Car(velocity=0, position=95)',\n",
       " 'Car(velocity=1, position=97)',\n",
       " 'Car(velocity=0, position=98)',\n",
       " 'Car(velocity=0, position=99)']"
      ]
     },
     "execution_count": 119,
     "metadata": {},
     "output_type": "execute_result"
    }
   ],
   "source": [
    "track.performModelActions()\n",
    "[str(car) for car in track.getCars()]"
   ]
  },
  {
   "cell_type": "code",
   "execution_count": null,
   "metadata": {},
   "outputs": [],
   "source": []
  }
 ],
 "metadata": {
  "kernelspec": {
   "display_name": "Python 3",
   "language": "python",
   "name": "python3"
  },
  "language_info": {
   "codemirror_mode": {
    "name": "ipython",
    "version": 3
   },
   "file_extension": ".py",
   "mimetype": "text/x-python",
   "name": "python",
   "nbconvert_exporter": "python",
   "pygments_lexer": "ipython3",
   "version": "3.8.1"
  }
 },
 "nbformat": 4,
 "nbformat_minor": 4
}
