{
 "cells": [
  {
   "cell_type": "code",
   "execution_count": 47,
   "metadata": {},
   "outputs": [],
   "source": [
    "import random\n",
    "import math\n",
    "from matplotlib import pyplot as plt"
   ]
  },
  {
   "cell_type": "code",
   "execution_count": 48,
   "metadata": {},
   "outputs": [],
   "source": [
    "class Car:\n",
    "    def __init__(self, velocity, position):\n",
    "        self.__velocity = velocity\n",
    "        self.__position = position\n",
    "    \n",
    "    def setVelocity(self, velocity):\n",
    "        self.__velocity = velocity\n",
    "    \n",
    "    def getVelocity(self):\n",
    "        return self.__velocity\n",
    "    \n",
    "    def setPosition(self, position):\n",
    "        self.__position = position\n",
    "        \n",
    "    def getPosition(self):\n",
    "        return self.__position\n",
    "    \n",
    "    def __str__(self):\n",
    "        return \"Car(velocity=\" + str(self.getVelocity()) +\", position=\" + str(self.getPosition()) + \")\""
   ]
  },
  {
   "cell_type": "code",
   "execution_count": 106,
   "metadata": {},
   "outputs": [],
   "source": [
    "class Track:\n",
    "    maximumVelocity = 5;\n",
    "    def __init__(self, density = 0.5, probability = 0.3):\n",
    "        self.__density = density\n",
    "        self.__probability = probability\n",
    "        self.__cars = self.initializeCars()\n",
    "        \n",
    "    def getCars(self):\n",
    "        return self.__cars\n",
    "    \n",
    "    def getProbability(self):\n",
    "        return self.__probability\n",
    "    \n",
    "        \n",
    "    def initializeCars(self):\n",
    "        numberOfCars = math.floor(self.__density * 100)\n",
    "        cars = []\n",
    "        for i in range(numberOfCars):\n",
    "            # Set the position to a random int first\n",
    "            # There are 100 cells from 0 to 99\n",
    "            car = Car(random.randint(0,5), random.randint(0, 99))\n",
    "            \n",
    "            # Check if the car's position is not already occupied\n",
    "            # Else change it to a random value\n",
    "            while True:\n",
    "                exists = False\n",
    "                for j in range(len(cars)):\n",
    "                    if(cars[j].getPosition() == car.getPosition()):\n",
    "                        exists = True\n",
    "                        \n",
    "                if exists:\n",
    "                    car.setPosition(random.randint(0, 99))\n",
    "                else: break\n",
    "                    \n",
    "            cars.append(car)\n",
    "            \n",
    "        cars.sort(key = lambda car: car.getPosition())\n",
    "        return cars\n",
    "    \n",
    "    def performModelActions(self):\n",
    "        self.accelerateCars()\n",
    "        self.slowDownCars()\n",
    "        self.randomizeVelocity()\n",
    "        self.moveCars()\n",
    "    \n",
    "    def accelerateCars(self):\n",
    "        cars = self.getCars()\n",
    "        for car in cars:\n",
    "            if car.getVelocity() < self.maximumVelocity:\n",
    "                car.setVelocity(car.getVelocity() + 1)\n",
    "                \n",
    "    def slowDownCars(self):\n",
    "        cars = self.getCars()\n",
    "        numberOfCars = len(cars)\n",
    "        \n",
    "        \n",
    "        for index, car in enumerate(cars):\n",
    "            nextCar = cars[(index + 1) % numberOfCars]\n",
    "            \n",
    "            distanceToNextCar = abs(car.getPosition() - (nextCar.getPosition() + 100)) % 100\n",
    "            if distanceToNextCar < car.getVelocity():\n",
    "                car.setVelocity(distanceToNextCar - 1)\n",
    "                \n",
    "    def randomizeVelocity(self):\n",
    "        cars = self.getCars()\n",
    "        probabilityInPercentage = self.getProbability() * 100\n",
    "        for car in cars:\n",
    "            if car.getVelocity() >= 1:\n",
    "                if random.randint(1, 100) <= probabilityInPercentage:\n",
    "                    car.setVelocity(car.getVelocity() - 1)\n",
    "                \n",
    "    def moveCars(self):\n",
    "        cars = self.getCars()\n",
    "        \n",
    "        for car in cars:\n",
    "            car.setPosition(car.getPosition() + car.getVelocity())\n",
    "            # Reset car into circle\n",
    "            car.setPosition(car.getPosition() % 99)\n",
    "            \n",
    "            \n",
    "            \n",
    "    def getAverageCarVelocity(self):\n",
    "        cars = self.getCars()\n",
    "        totalVelocity = 0\n",
    "        for car in cars:\n",
    "            totalVelocity += car.getVelocity()\n",
    "            \n",
    "        return totalVelocity / len(cars)"
   ]
  },
  {
   "cell_type": "code",
   "execution_count": 107,
   "metadata": {},
   "outputs": [
    {
     "data": {
      "text/plain": [
       "['Car(velocity=0, position=4)',\n",
       " 'Car(velocity=0, position=15)',\n",
       " 'Car(velocity=0, position=19)',\n",
       " 'Car(velocity=0, position=34)',\n",
       " 'Car(velocity=0, position=46)',\n",
       " 'Car(velocity=0, position=64)',\n",
       " 'Car(velocity=0, position=76)',\n",
       " 'Car(velocity=0, position=77)',\n",
       " 'Car(velocity=0, position=91)',\n",
       " 'Car(velocity=0, position=94)']"
      ]
     },
     "execution_count": 107,
     "metadata": {},
     "output_type": "execute_result"
    }
   ],
   "source": [
    "track = Track(0.1)\n",
    "[str(car) for car in track.getCars()]"
   ]
  },
  {
   "cell_type": "code",
   "execution_count": 108,
   "metadata": {},
   "outputs": [
    {
     "data": {
      "text/plain": [
       "['Car(velocity=0, position=4)',\n",
       " 'Car(velocity=0, position=15)',\n",
       " 'Car(velocity=0, position=19)',\n",
       " 'Car(velocity=1, position=35)',\n",
       " 'Car(velocity=0, position=46)',\n",
       " 'Car(velocity=0, position=64)',\n",
       " 'Car(velocity=0, position=76)',\n",
       " 'Car(velocity=0, position=77)',\n",
       " 'Car(velocity=1, position=92)',\n",
       " 'Car(velocity=1, position=95)']"
      ]
     },
     "execution_count": 108,
     "metadata": {},
     "output_type": "execute_result"
    }
   ],
   "source": [
    "track.performModelActions()\n",
    "[str(car) for car in track.getCars()]"
   ]
  },
  {
   "cell_type": "code",
   "execution_count": 109,
   "metadata": {},
   "outputs": [],
   "source": [
    "def runModelAndGetAverageVelocity(track):\n",
    "    for i in range(1000):\n",
    "        track.performModelActions()\n",
    "        if i % 100 == 0:\n",
    "            print(track.getAverageCarVelocity())\n",
    "    return track.getAverageCarVelocity()"
   ]
  },
  {
   "cell_type": "code",
   "execution_count": 110,
   "metadata": {},
   "outputs": [
    {
     "data": {
      "text/plain": [
       "[0.1, 0.2, 0.3, 0.4, 0.5, 0.6, 0.7, 0.8, 0.9, 1.0]"
      ]
     },
     "execution_count": 110,
     "metadata": {},
     "output_type": "execute_result"
    }
   ],
   "source": [
    "densities = [i / 10 for i in range(1,11)]\n",
    "probabilities = [0.1, 0.2, 0.3, 0.6]\n",
    "densities"
   ]
  },
  {
   "cell_type": "code",
   "execution_count": 103,
   "metadata": {},
   "outputs": [
    {
     "data": {
      "image/png": "[encoded data removed]",
      "text/plain": [
       "<Figure size 432x288 with 1 Axes>"
      ]
     },
     "metadata": {
      "needs_background": "light"
     },
     "output_type": "display_data"
    }
   ],
   "source": [
    "for p in probabilities:\n",
    "    averageVelocities = []\n",
    "    for d in densities:\n",
    "        track = Track(d, p)\n",
    "        averageVelocities.append(runModelAndGetAverageVelocity(track))\n",
    "        \n",
    "    plt.plot(densities, averageVelocities)\n",
    "    \n",
    "\n",
    "plt.show()"
   ]
  },
  {
   "cell_type": "code",
   "execution_count": 111,
   "metadata": {},
   "outputs": [
    {
     "name": "stdout",
     "output_type": "stream",
     "text": [
      "0.7625\n",
      "4.725\n",
      "4.675\n",
      "4.6875\n",
      "4.7125\n",
      "4.5875\n",
      "4.575\n",
      "4.5875\n",
      "4.6625\n",
      "4.7125\n"
     ]
    }
   ],
   "source": [
    "averageVelocities = []\n",
    "# for d in densities:\n",
    "#     track = Track(d, 0.3)\n",
    "#     averageVelocities.append(runModelAndGetAverageVelocity(track))\n",
    "#     print(track.getAverageCarVelocity())\n",
    "\n",
    "track = Track(0.8, 0.3)\n",
    "averageVelocities.append(runModelAndGetAverageVelocity(track))\n",
    "\n",
    "# plt.plot(densities, averageVelocities)\n",
    "# plt.grid(True)\n",
    "# plt.show()"
   ]
  },
  {
   "cell_type": "code",
   "execution_count": 67,
   "metadata": {},
   "outputs": [
    {
     "data": {
      "text/plain": [
       "True"
      ]
     },
     "execution_count": 67,
     "metadata": {},
     "output_type": "execute_result"
    }
   ],
   "source": [
    "1 != 8"
   ]
  },
  {
   "cell_type": "code",
   "execution_count": null,
   "metadata": {},
   "outputs": [],
   "source": []
  }
 ],
 "metadata": {
  "kernelspec": {
   "display_name": "Python 3",
   "language": "python",
   "name": "python3"
  },
  "language_info": {
   "codemirror_mode": {
    "name": "ipython",
    "version": 3
   },
   "file_extension": ".py",
   "mimetype": "text/x-python",
   "name": "python",
   "nbconvert_exporter": "python",
   "pygments_lexer": "ipython3",
   "version": "3.8.1"
  }
 },
 "nbformat": 4,
 "nbformat_minor": 4
}
